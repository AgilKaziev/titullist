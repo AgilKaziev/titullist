{
 "cells": [
  {
   "cell_type": "code",
   "execution_count": null,
   "metadata": {},
   "outputs": [],
   "source": [
    "[(\"                             Министерство образования и науки РФ\")]\n",
    "(\"\\n              Санкт-Петербургский политехнический университет Петра Великого\")\n",
    "(\"\\n                         Институт компьютерных наук и технологий\")\n",
    "(\"\\n                   Высшая школа *«Киберфизических систем и управления»*\")\n",
    "print(\"\\nУДК__________\")\n",
    "print(\"\\n                                                                                          УТВЕРЖДАЮ\")\n",
    "print(\"\\n                                                                              _____________________\")\n",
    "print(\"\\n                                                                              _____________________\")\n",
    "print(\"\\n                                                                              _____________________\")\n",
    "print(\"\\n                                                                              '___'__________ ____г\")\n",
    "print(\"\\n\")\n",
    "print(\"\\n\")\n",
    "print(\"\\n\")\n",
    "print(\"\\n                                          Реферат\")\n",
    "print(\"\\n                     по дисциплине «Практикум по программированию»\")\n",
    "print(\"\\n\")\n",
    "print(\"\\n\")\n",
    "print(\"\\n\")\n",
    "print(\"\\n\")\n",
    "print(\"\\nВыполнил:\")\n",
    "print(\"\\nстудент гр. з3530902/90001                                          _________________А.В. Казиев\")\n",
    "print(\"\\n                                                                    подпись, дата\")\n",
    "print(\"\\n\")\n",
    "print(\"\\n\")\n",
    "print(\"\\nПроверил:\")\n",
    "print(\"\\nдоцент к.ф.-м.н.                                                    _________________ А.А. Жиленков\")\n",
    "print(\"\\n                                                                    подпись, дата\")\n",
    "print(\"\\n\")\n",
    "print(\"\\n\")\n",
    "print(\"\\n\")\n",
    "print(\"\\n\")\n",
    "print(\"\\n                                  Санкт-Петербург 2021 г.\")"
   ]
  }
 ],
 "metadata": {
  "kernelspec": {
   "display_name": "Python 3",
   "language": "python",
   "name": "python3"
  },
  "language_info": {
   "codemirror_mode": {
    "name": "ipython",
    "version": 3
   },
   "file_extension": ".py",
   "mimetype": "text/x-python",
   "name": "python",
   "nbconvert_exporter": "python",
   "pygments_lexer": "ipython3",
   "version": "3.8.5"
  }
 },
 "nbformat": 4,
 "nbformat_minor": 4
}
